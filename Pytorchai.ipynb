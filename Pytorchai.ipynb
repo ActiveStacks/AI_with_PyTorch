{
  "nbformat": 4,
  "nbformat_minor": 0,
  "metadata": {
    "colab": {
      "provenance": [],
      "gpuType": "T4",
      "authorship_tag": "ABX9TyMg4gbeN2MXg3bKwIIbIklP",
      "include_colab_link": true
    },
    "kernelspec": {
      "name": "python3",
      "display_name": "Python 3"
    },
    "language_info": {
      "name": "python"
    },
    "accelerator": "GPU"
  },
  "cells": [
    {
      "cell_type": "markdown",
      "metadata": {
        "id": "view-in-github",
        "colab_type": "text"
      },
      "source": [
        "<a href=\"https://colab.research.google.com/github/ActiveStacks/AI_with_PyTorch/blob/main/Pytorchai.ipynb\" target=\"_parent\"><img src=\"https://colab.research.google.com/assets/colab-badge.svg\" alt=\"Open In Colab\"/></a>"
      ]
    },
    {
      "cell_type": "code",
      "execution_count": null,
      "metadata": {
        "id": "JtLB-CR29mjq"
      },
      "outputs": [],
      "source": [
        "import torch\n",
        "import numpy\n",
        "import numpy as np"
      ]
    },
    {
      "cell_type": "markdown",
      "source": [],
      "metadata": {
        "id": "uv_MwEvc-6Ti"
      }
    },
    {
      "cell_type": "code",
      "source": [
        "my_list  = [[1,2,3,4], [3,5,6,7]]\n",
        "my_list"
      ],
      "metadata": {
        "colab": {
          "base_uri": "https://localhost:8080/"
        },
        "id": "E-WRJvig-62m",
        "outputId": "73ca80b4-49db-4990-9e8b-293e2850f5cd"
      },
      "execution_count": null,
      "outputs": [
        {
          "output_type": "execute_result",
          "data": {
            "text/plain": [
              "[[1, 2, 3, 4], [3, 5, 6, 7]]"
            ]
          },
          "metadata": {},
          "execution_count": 6
        }
      ]
    },
    {
      "cell_type": "code",
      "source": [
        "np1 = np.random.rand(3,4)\n",
        "np1"
      ],
      "metadata": {
        "id": "2uPJtxMKAZAt"
      },
      "execution_count": null,
      "outputs": []
    },
    {
      "cell_type": "code",
      "source": [],
      "metadata": {
        "id": "2TNLbXN6_UyR"
      },
      "execution_count": null,
      "outputs": []
    },
    {
      "cell_type": "code",
      "source": [
        "tensor_2d = torch.rand(3,4)\n",
        "tensor_2d\n"
      ],
      "metadata": {
        "colab": {
          "base_uri": "https://localhost:8080/"
        },
        "id": "-QJ501K5AZIY",
        "outputId": "994e3bb2-5ba0-4e98-f13c-3afe2419335a"
      },
      "execution_count": null,
      "outputs": [
        {
          "output_type": "execute_result",
          "data": {
            "text/plain": [
              "tensor([[0.1175, 0.9804, 0.0962, 0.4956],\n",
              "        [0.8923, 0.8430, 0.6709, 0.0476],\n",
              "        [0.0358, 0.9061, 0.8120, 0.2086]])"
            ]
          },
          "metadata": {},
          "execution_count": 20
        }
      ]
    },
    {
      "cell_type": "code",
      "source": [
        "tensor_3d = torch.rand(3,4,5)\n",
        "tensor_3d"
      ],
      "metadata": {
        "id": "sh5ZqL03_Vai",
        "outputId": "d7a7a0b2-ea22-49b4-d8b8-1827c5155e75",
        "colab": {
          "base_uri": "https://localhost:8080/"
        }
      },
      "execution_count": null,
      "outputs": [
        {
          "output_type": "execute_result",
          "data": {
            "text/plain": [
              "tensor([[[0.4058, 0.4324, 0.9403, 0.2014, 0.6881],\n",
              "         [0.1586, 0.0386, 0.4665, 0.7912, 0.6828],\n",
              "         [0.1593, 0.9836, 0.4077, 0.5394, 0.2892],\n",
              "         [0.0489, 0.7342, 0.2108, 0.2649, 0.6376]],\n",
              "\n",
              "        [[0.7936, 0.8920, 0.7970, 0.9036, 0.5114],\n",
              "         [0.9554, 0.0541, 0.9984, 0.2211, 0.5966],\n",
              "         [0.9696, 0.1497, 0.9782, 0.2970, 0.3547],\n",
              "         [0.7867, 0.7112, 0.2844, 0.6100, 0.3353]],\n",
              "\n",
              "        [[0.4595, 0.8376, 0.4018, 0.7540, 0.6860],\n",
              "         [0.6197, 0.1261, 0.4887, 0.4165, 0.7180],\n",
              "         [0.9748, 0.8966, 0.0542, 0.5289, 0.6522],\n",
              "         [0.6977, 0.7569, 0.9857, 0.5677, 0.2025]]])"
            ]
          },
          "metadata": {},
          "execution_count": 15
        }
      ]
    },
    {
      "cell_type": "code",
      "source": [
        "# CREATE TENSOR FROM NUMP ARRAY\n",
        "my_tensor = torch.tensor(np1)\n",
        "my_tensor"
      ],
      "metadata": {
        "id": "NeNX4D8P_4lF",
        "outputId": "63e98076-8d45-4abc-a65f-1a3a3ab5e8ef",
        "colab": {
          "base_uri": "https://localhost:8080/"
        }
      },
      "execution_count": null,
      "outputs": [
        {
          "output_type": "execute_result",
          "data": {
            "text/plain": [
              "tensor([[0.7933, 0.3434, 0.6596, 0.4793],\n",
              "        [0.7069, 0.7196, 0.8145, 0.5437],\n",
              "        [0.0035, 0.1331, 0.3753, 0.2578]], dtype=torch.float64)"
            ]
          },
          "metadata": {},
          "execution_count": 17
        }
      ]
    },
    {
      "cell_type": "code",
      "source": [],
      "metadata": {
        "id": "y3Qihd8T_4oS"
      },
      "execution_count": null,
      "outputs": []
    },
    {
      "cell_type": "code",
      "source": [],
      "metadata": {
        "id": "-aefnP8c_4q2"
      },
      "execution_count": null,
      "outputs": []
    },
    {
      "cell_type": "code",
      "source": [],
      "metadata": {
        "id": "iE54QH3c_4vS"
      },
      "execution_count": null,
      "outputs": []
    }
  ]
}