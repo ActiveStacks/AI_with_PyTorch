{
  "nbformat": 4,
  "nbformat_minor": 0,
  "metadata": {
    "colab": {
      "provenance": [],
      "authorship_tag": "ABX9TyNKeFPJMRGoBj5CnbZVj66Y",
      "include_colab_link": true
    },
    "kernelspec": {
      "name": "python3",
      "display_name": "Python 3"
    },
    "language_info": {
      "name": "python"
    }
  },
  "cells": [
    {
      "cell_type": "markdown",
      "metadata": {
        "id": "view-in-github",
        "colab_type": "text"
      },
      "source": [
        "<a href=\"https://colab.research.google.com/github/ActiveStacks/AI_with_PyTorch/blob/main/ImageClassification.ipynb\" target=\"_parent\"><img src=\"https://colab.research.google.com/assets/colab-badge.svg\" alt=\"Open In Colab\"/></a>"
      ]
    },
    {
      "cell_type": "markdown",
      "source": [
        "Dogs vs Cats Image Classification withut Augmentation\n"
      ],
      "metadata": {
        "id": "kFBVIyJJbA0k"
      }
    },
    {
      "cell_type": "code",
      "execution_count": 33,
      "metadata": {
        "id": "1E3W8H-5a-YU"
      },
      "outputs": [],
      "source": [
        "from __future__ import absolute_import, division, print_function"
      ]
    },
    {
      "cell_type": "code",
      "source": [
        "import os\n",
        "import matplotlib.pyplot as plt\n",
        "import numpy as np"
      ],
      "metadata": {
        "id": "Lq7uI8d_bxQU"
      },
      "execution_count": 34,
      "outputs": []
    },
    {
      "cell_type": "code",
      "source": [],
      "metadata": {
        "id": "3Flpkx2KdQPl"
      },
      "execution_count": 34,
      "outputs": []
    },
    {
      "cell_type": "code",
      "source": [
        "import tensorflow as tf\n",
        "from tensorflow.keras.preprocessing.image import ImageDataGenerator\n",
        "# tf.compat.v1.loggng\n",
        "# # tf.logging.set_verbosity(tf.logging.ERROR)\n"
      ],
      "metadata": {
        "id": "bFDvLndGbxN7"
      },
      "execution_count": 35,
      "outputs": []
    },
    {
      "cell_type": "code",
      "source": [
        "_URL = 'https://storage.googleapis.com/mledu-datasets/cats_and_dogs_filtered.zip'\n"
      ],
      "metadata": {
        "id": "PKyBlVsCbxLs"
      },
      "execution_count": 36,
      "outputs": []
    },
    {
      "cell_type": "code",
      "source": [
        "zip_dir = tf.keras.utils.get_file('cats_and_dogs_filterted.zip', origin=_URL, extract=True)"
      ],
      "metadata": {
        "id": "Q4rjRSBJbxJf"
      },
      "execution_count": 37,
      "outputs": []
    },
    {
      "cell_type": "markdown",
      "source": [
        "****"
      ],
      "metadata": {
        "id": "kiYd7co35gmK"
      }
    },
    {
      "cell_type": "code",
      "source": [
        "zip_dir_base = os.path.dirname(zip_dir)\n",
        "!find $zip_dir_base -type d -print"
      ],
      "metadata": {
        "colab": {
          "base_uri": "https://localhost:8080/"
        },
        "id": "tgppirs_bxHM",
        "outputId": "72708e44-c344-41f3-caf6-3170fbc80147"
      },
      "execution_count": 38,
      "outputs": [
        {
          "output_type": "stream",
          "name": "stdout",
          "text": [
            "/root/.keras/datasets\n",
            "/root/.keras/datasets/cats_and_dogs_filtered\n",
            "/root/.keras/datasets/cats_and_dogs_filtered/train\n",
            "/root/.keras/datasets/cats_and_dogs_filtered/train/cats\n",
            "/root/.keras/datasets/cats_and_dogs_filtered/train/dogs\n",
            "/root/.keras/datasets/cats_and_dogs_filtered/validation\n",
            "/root/.keras/datasets/cats_and_dogs_filtered/validation/cats\n",
            "/root/.keras/datasets/cats_and_dogs_filtered/validation/dogs\n"
          ]
        }
      ]
    },
    {
      "cell_type": "code",
      "source": [
        "base_dir = os.path.join(os.path.dirname(zip_dir), 'cats_and_dogs_filtered')\n",
        "train_dir = os.path.join(base_dir, 'train')\n",
        "validation_dir = os.path.join(base_dir, 'validation')\n",
        "\n",
        "train_cats_dir = os.path.join(train_dir, 'cats')\n",
        "train_dogs_dir = os.path.join(train_dir, 'dogs')\n",
        "validation_cats_dir = os.path.join(validation_dir, 'cats')\n",
        "validaion_dogs_dir = os.path.join(validation_dir, 'dogs')"
      ],
      "metadata": {
        "id": "iayQLV01bxFE"
      },
      "execution_count": 39,
      "outputs": []
    },
    {
      "cell_type": "markdown",
      "source": [
        "**Understanding Our Data**"
      ],
      "metadata": {
        "id": "HnV5QVZc8Bse"
      }
    },
    {
      "cell_type": "code",
      "source": [
        "num_cats_tr = len(os.listdir(train_cats_dir))\n",
        "num_dogs_tr = len(os.listdir(train_dogs_dir))\n",
        "\n",
        "num_cats_val = len(os.listdir(validation_cats_dir))\n",
        "num_dogs_val = len(os.listdir(validaion_dogs_dir))\n",
        "\n",
        "total_train = num_cats_tr + num_dogs_tr\n",
        "total_val = num_cats_val + num_dogs_val\n",
        "\n",
        "print('total training cats images:', num_cats_tr)\n",
        "print('total training dog images:', num_dogs_tr)\n",
        "\n",
        "print('total validation cat images:', num_cats_val)\n",
        "print('total validation dog images:', num_dogs_val)\n",
        "print(\"__\")\n",
        "print(\"Total training images:\", total_train)\n",
        "print(\"Total validation images:\", total_val)"
      ],
      "metadata": {
        "colab": {
          "base_uri": "https://localhost:8080/"
        },
        "id": "Rp8no91SbxCk",
        "outputId": "0df3c171-6135-45fb-ca39-1d3c105b620d"
      },
      "execution_count": 40,
      "outputs": [
        {
          "output_type": "stream",
          "name": "stdout",
          "text": [
            "total training cats images: 1000\n",
            "total training dog images: 1000\n",
            "total validation cat images: 500\n",
            "total validation dog images: 500\n",
            "__\n",
            "Total training images: 2000\n",
            "Total validation images: 1000\n"
          ]
        }
      ]
    },
    {
      "cell_type": "markdown",
      "source": [
        "**SETTING THE MODEL PARAMETERS**\n",
        "Batch size is the number of training examples to process before updating our models variables\n"
      ],
      "metadata": {
        "id": "f09rGvTp_uyg"
      }
    },
    {
      "cell_type": "code",
      "source": [
        "BATCH_SIZE = 100\n",
        "IMG_SHAPE = 150"
      ],
      "metadata": {
        "id": "5cBWKx45bw_s"
      },
      "execution_count": 41,
      "outputs": []
    },
    {
      "cell_type": "markdown",
      "source": [
        "**DATA PREPARATION**"
      ],
      "metadata": {
        "id": "skkndQ9SASpF"
      }
    },
    {
      "cell_type": "code",
      "source": [
        "train_image_generator = ImageDataGenerator(rescale=1./255)\n",
        "validation_image_generator = ImageDataGenerator(rescale=1./255)"
      ],
      "metadata": {
        "id": "c7-N2JnaAYQW"
      },
      "execution_count": 42,
      "outputs": []
    },
    {
      "cell_type": "code",
      "source": [
        "train_data_gen = train_image_generator.flow_from_directory(batch_size=BATCH_SIZE,\n",
        "                                                           directory=train_dir,\n",
        "                                                           shuffle=True,\n",
        "                                                           target_size=(IMG_SHAPE, IMG_SHAPE),\n",
        "                                                           class_mode='binary')"
      ],
      "metadata": {
        "colab": {
          "base_uri": "https://localhost:8080/"
        },
        "id": "4EjGebksAYLE",
        "outputId": "c47045da-db23-45de-d39a-fdcc785140da"
      },
      "execution_count": 43,
      "outputs": [
        {
          "output_type": "stream",
          "name": "stdout",
          "text": [
            "Found 2000 images belonging to 2 classes.\n"
          ]
        }
      ]
    },
    {
      "cell_type": "code",
      "source": [
        "val_data_gen = validation_image_generator.flow_from_directory(batch_size=BATCH_SIZE,\n",
        "                                                              directory=validation_dir,\n",
        "                                                              shuffle=False,\n",
        "                                                              target_size=(IMG_SHAPE, IMG_SHAPE),\n",
        "                                                              class_mode='binary')"
      ],
      "metadata": {
        "colab": {
          "base_uri": "https://localhost:8080/"
        },
        "id": "fJiAQP2pAYI3",
        "outputId": "1c6a0480-2d5a-44ad-ae34-92c578984857"
      },
      "execution_count": 44,
      "outputs": [
        {
          "output_type": "stream",
          "name": "stdout",
          "text": [
            "Found 1000 images belonging to 2 classes.\n"
          ]
        }
      ]
    },
    {
      "cell_type": "code",
      "source": [
        "# VISUALIZING TRAINING IMAGES\n",
        "sample_training_images, _ =next(train_data_gen)"
      ],
      "metadata": {
        "id": "ey368HDLAYGh"
      },
      "execution_count": 45,
      "outputs": []
    },
    {
      "cell_type": "markdown",
      "source": [
        "**PLOTTING IMAGES**"
      ],
      "metadata": {
        "id": "5_yJ0zVbDPy9"
      }
    },
    {
      "cell_type": "code",
      "source": [
        "def plotImages(images_arr):\n",
        "  fig, axes = plt.subplots(1, 5, figsize(20,20))\n",
        "  axes = axes.flatten()\n",
        "  for img, ax in zip( images_arr, axes):\n",
        "    ax.imshow(img)\n",
        "    plt.tight_layout()\n",
        "    plt.show()"
      ],
      "metadata": {
        "id": "TOntksozAYD0"
      },
      "execution_count": 46,
      "outputs": []
    },
    {
      "cell_type": "code",
      "source": [
        "# plotImages(sample_training_images[:5])"
      ],
      "metadata": {
        "id": "DyZVvQdhAX7n"
      },
      "execution_count": 47,
      "outputs": []
    },
    {
      "cell_type": "markdown",
      "source": [
        "**MODEL CREATION**"
      ],
      "metadata": {
        "id": "nxKKk4KiFZGP"
      }
    },
    {
      "cell_type": "code",
      "source": [
        "model = tf.keras.models.Sequential([\n",
        "    tf.keras.layers.Conv2D(32, (3,3), activation='relu', input_shape=(150,150, 3)),\n",
        "    tf.keras.layers.MaxPooling2D(2, 2),\n",
        "\n",
        "    tf.keras.layers.Conv2D(64, (3,3), activation ='relu'),\n",
        "    tf.keras.layers.MaxPooling2D(2,2),\n",
        "\n",
        "    tf.keras.layers.Conv2D(128, (3,3), activation = 'relu'),\n",
        "    tf.keras.layers.MaxPooling2D(2,2),\n",
        "\n",
        "    tf.keras.layers.Conv2D(128, (3,3), activation = 'relu'),\n",
        "    tf.keras.layers.MaxPooling2D(2,2),\n",
        "\n",
        "    tf.keras.layers.Flatten(),\n",
        "    tf.keras.layers.Dense(512, activation ='relu'),\n",
        "    tf.keras.layers.Dense(2, activation='softmax')\n",
        "])"
      ],
      "metadata": {
        "id": "P0PwBstmFXIg"
      },
      "execution_count": 48,
      "outputs": []
    },
    {
      "cell_type": "code",
      "source": [],
      "metadata": {
        "id": "_wwM66xSFXGG"
      },
      "execution_count": 48,
      "outputs": []
    },
    {
      "cell_type": "markdown",
      "source": [
        "**COMPILE THE MODEL**"
      ],
      "metadata": {
        "id": "1_fKyunYH0Ro"
      }
    },
    {
      "cell_type": "code",
      "source": [
        "model.compile(optimizer='adam',\n",
        "              loss='sparse_categorical_crossentropy',\n",
        "              metrics=['accuracy'])"
      ],
      "metadata": {
        "id": "TpIIL6gqFXD4"
      },
      "execution_count": 49,
      "outputs": []
    },
    {
      "cell_type": "markdown",
      "source": [
        "**MODEL SUMMARY**"
      ],
      "metadata": {
        "id": "4Bg98ehbIRuo"
      }
    },
    {
      "cell_type": "code",
      "source": [
        "model.summary()"
      ],
      "metadata": {
        "colab": {
          "base_uri": "https://localhost:8080/"
        },
        "id": "B_ufFNdmFXBV",
        "outputId": "c477b91d-2827-455f-a4d8-b34bbe1d0bcd"
      },
      "execution_count": 50,
      "outputs": [
        {
          "output_type": "stream",
          "name": "stdout",
          "text": [
            "Model: \"sequential_1\"\n",
            "_________________________________________________________________\n",
            " Layer (type)                Output Shape              Param #   \n",
            "=================================================================\n",
            " conv2d_4 (Conv2D)           (None, 148, 148, 32)      896       \n",
            "                                                                 \n",
            " max_pooling2d_4 (MaxPoolin  (None, 74, 74, 32)        0         \n",
            " g2D)                                                            \n",
            "                                                                 \n",
            " conv2d_5 (Conv2D)           (None, 72, 72, 64)        18496     \n",
            "                                                                 \n",
            " max_pooling2d_5 (MaxPoolin  (None, 36, 36, 64)        0         \n",
            " g2D)                                                            \n",
            "                                                                 \n",
            " conv2d_6 (Conv2D)           (None, 34, 34, 128)       73856     \n",
            "                                                                 \n",
            " max_pooling2d_6 (MaxPoolin  (None, 17, 17, 128)       0         \n",
            " g2D)                                                            \n",
            "                                                                 \n",
            " conv2d_7 (Conv2D)           (None, 15, 15, 128)       147584    \n",
            "                                                                 \n",
            " max_pooling2d_7 (MaxPoolin  (None, 7, 7, 128)         0         \n",
            " g2D)                                                            \n",
            "                                                                 \n",
            " flatten_1 (Flatten)         (None, 6272)              0         \n",
            "                                                                 \n",
            " dense_2 (Dense)             (None, 512)               3211776   \n",
            "                                                                 \n",
            " dense_3 (Dense)             (None, 2)                 1026      \n",
            "                                                                 \n",
            "=================================================================\n",
            "Total params: 3453634 (13.17 MB)\n",
            "Trainable params: 3453634 (13.17 MB)\n",
            "Non-trainable params: 0 (0.00 Byte)\n",
            "_________________________________________________________________\n"
          ]
        }
      ]
    },
    {
      "cell_type": "code",
      "source": [],
      "metadata": {
        "id": "YnC7Hc90FW_N"
      },
      "execution_count": 50,
      "outputs": []
    },
    {
      "cell_type": "markdown",
      "source": [],
      "metadata": {
        "id": "KBMAfIILIc_N"
      }
    },
    {
      "cell_type": "markdown",
      "source": [
        "**TRAIN THE MODEL**"
      ],
      "metadata": {
        "id": "5kG5wZldIg0-"
      }
    },
    {
      "cell_type": "code",
      "source": [
        "EPOCHS = 100\n",
        "history = model.fit_generator(\n",
        "    train_data_gen,\n",
        "    steps_per_epoch=int(np.ceil(total_train / float(BATCH_SIZE))),\n",
        "    epochs = EPOCHS,\n",
        "    validation_data=val_data_gen,\n",
        "    validation_steps=int(np.ceil(total_val / float(BATCH_SIZE)))\n",
        ")"
      ],
      "metadata": {
        "colab": {
          "base_uri": "https://localhost:8080/"
        },
        "id": "vDHGs_yVFW8P",
        "outputId": "6bb8e8f6-c71b-4373-b2e0-8d8bd851ab5b"
      },
      "execution_count": 51,
      "outputs": [
        {
          "output_type": "stream",
          "name": "stderr",
          "text": [
            "<ipython-input-51-a5d43c6ee11a>:2: UserWarning: `Model.fit_generator` is deprecated and will be removed in a future version. Please use `Model.fit`, which supports generators.\n",
            "  history = model.fit_generator(\n"
          ]
        },
        {
          "output_type": "stream",
          "name": "stdout",
          "text": [
            "Epoch 1/100\n",
            "20/20 [==============================] - 13s 268ms/step - loss: 0.7859 - accuracy: 0.5280 - val_loss: 0.7011 - val_accuracy: 0.5000\n",
            "Epoch 2/100\n",
            "20/20 [==============================] - 6s 305ms/step - loss: 0.6925 - accuracy: 0.5145 - val_loss: 0.6819 - val_accuracy: 0.5200\n",
            "Epoch 3/100\n",
            "20/20 [==============================] - 5s 248ms/step - loss: 0.6692 - accuracy: 0.5755 - val_loss: 0.7652 - val_accuracy: 0.4990\n",
            "Epoch 4/100\n",
            "20/20 [==============================] - 6s 291ms/step - loss: 0.6717 - accuracy: 0.5885 - val_loss: 0.6203 - val_accuracy: 0.6530\n",
            "Epoch 5/100\n",
            "20/20 [==============================] - 5s 250ms/step - loss: 0.6508 - accuracy: 0.5905 - val_loss: 0.6388 - val_accuracy: 0.6470\n",
            "Epoch 6/100\n",
            "20/20 [==============================] - 6s 307ms/step - loss: 0.6080 - accuracy: 0.6785 - val_loss: 0.6099 - val_accuracy: 0.6770\n",
            "Epoch 7/100\n",
            "20/20 [==============================] - 7s 356ms/step - loss: 0.5621 - accuracy: 0.7185 - val_loss: 0.5800 - val_accuracy: 0.6980\n",
            "Epoch 8/100\n",
            "20/20 [==============================] - 6s 294ms/step - loss: 0.5338 - accuracy: 0.7285 - val_loss: 0.5674 - val_accuracy: 0.7120\n",
            "Epoch 9/100\n",
            "20/20 [==============================] - 5s 245ms/step - loss: 0.5025 - accuracy: 0.7545 - val_loss: 0.5817 - val_accuracy: 0.7080\n",
            "Epoch 10/100\n",
            "20/20 [==============================] - 6s 303ms/step - loss: 0.4832 - accuracy: 0.7710 - val_loss: 0.5894 - val_accuracy: 0.7150\n",
            "Epoch 11/100\n",
            "20/20 [==============================] - 6s 303ms/step - loss: 0.4356 - accuracy: 0.7850 - val_loss: 0.5406 - val_accuracy: 0.7250\n",
            "Epoch 12/100\n",
            "20/20 [==============================] - 5s 266ms/step - loss: 0.3920 - accuracy: 0.8310 - val_loss: 0.5475 - val_accuracy: 0.7370\n",
            "Epoch 13/100\n",
            "20/20 [==============================] - 5s 249ms/step - loss: 0.3480 - accuracy: 0.8450 - val_loss: 0.5518 - val_accuracy: 0.7520\n",
            "Epoch 14/100\n",
            "20/20 [==============================] - 6s 292ms/step - loss: 0.2923 - accuracy: 0.8775 - val_loss: 0.6487 - val_accuracy: 0.7260\n",
            "Epoch 15/100\n",
            "20/20 [==============================] - 5s 270ms/step - loss: 0.2588 - accuracy: 0.8935 - val_loss: 0.7252 - val_accuracy: 0.7030\n",
            "Epoch 16/100\n",
            "20/20 [==============================] - 5s 268ms/step - loss: 0.2068 - accuracy: 0.9230 - val_loss: 0.6755 - val_accuracy: 0.7280\n",
            "Epoch 17/100\n",
            "20/20 [==============================] - 5s 241ms/step - loss: 0.1440 - accuracy: 0.9430 - val_loss: 0.7966 - val_accuracy: 0.7330\n",
            "Epoch 18/100\n",
            "20/20 [==============================] - 6s 285ms/step - loss: 0.0958 - accuracy: 0.9690 - val_loss: 0.8817 - val_accuracy: 0.7310\n",
            "Epoch 19/100\n",
            "20/20 [==============================] - 5s 242ms/step - loss: 0.0680 - accuracy: 0.9825 - val_loss: 0.9711 - val_accuracy: 0.7400\n",
            "Epoch 20/100\n",
            "20/20 [==============================] - 5s 264ms/step - loss: 0.0653 - accuracy: 0.9790 - val_loss: 1.2089 - val_accuracy: 0.6960\n",
            "Epoch 21/100\n",
            "20/20 [==============================] - 5s 269ms/step - loss: 0.1026 - accuracy: 0.9615 - val_loss: 1.0594 - val_accuracy: 0.7090\n",
            "Epoch 22/100\n",
            "20/20 [==============================] - 5s 244ms/step - loss: 0.1013 - accuracy: 0.9645 - val_loss: 1.0355 - val_accuracy: 0.7020\n",
            "Epoch 23/100\n",
            "20/20 [==============================] - 6s 292ms/step - loss: 0.0401 - accuracy: 0.9895 - val_loss: 1.2248 - val_accuracy: 0.7210\n",
            "Epoch 24/100\n",
            "20/20 [==============================] - 5s 239ms/step - loss: 0.0257 - accuracy: 0.9935 - val_loss: 1.2093 - val_accuracy: 0.7330\n",
            "Epoch 25/100\n",
            "20/20 [==============================] - 6s 295ms/step - loss: 0.0092 - accuracy: 0.9995 - val_loss: 1.3877 - val_accuracy: 0.7260\n",
            "Epoch 26/100\n",
            "20/20 [==============================] - 5s 242ms/step - loss: 0.0045 - accuracy: 1.0000 - val_loss: 1.4560 - val_accuracy: 0.7310\n",
            "Epoch 27/100\n",
            "20/20 [==============================] - 6s 301ms/step - loss: 0.0019 - accuracy: 1.0000 - val_loss: 1.5240 - val_accuracy: 0.7320\n",
            "Epoch 28/100\n",
            "20/20 [==============================] - 6s 293ms/step - loss: 0.0013 - accuracy: 1.0000 - val_loss: 1.5597 - val_accuracy: 0.7340\n",
            "Epoch 29/100\n",
            "20/20 [==============================] - 5s 246ms/step - loss: 7.8080e-04 - accuracy: 1.0000 - val_loss: 1.6028 - val_accuracy: 0.7380\n",
            "Epoch 30/100\n",
            "20/20 [==============================] - 6s 300ms/step - loss: 5.8965e-04 - accuracy: 1.0000 - val_loss: 1.6334 - val_accuracy: 0.7370\n",
            "Epoch 31/100\n",
            "20/20 [==============================] - 5s 247ms/step - loss: 4.8110e-04 - accuracy: 1.0000 - val_loss: 1.6716 - val_accuracy: 0.7380\n",
            "Epoch 32/100\n",
            "20/20 [==============================] - 6s 280ms/step - loss: 4.0392e-04 - accuracy: 1.0000 - val_loss: 1.6944 - val_accuracy: 0.7360\n",
            "Epoch 33/100\n",
            "20/20 [==============================] - 5s 247ms/step - loss: 3.5168e-04 - accuracy: 1.0000 - val_loss: 1.7180 - val_accuracy: 0.7380\n",
            "Epoch 34/100\n",
            "20/20 [==============================] - 6s 289ms/step - loss: 3.1949e-04 - accuracy: 1.0000 - val_loss: 1.7397 - val_accuracy: 0.7380\n",
            "Epoch 35/100\n",
            "20/20 [==============================] - 5s 239ms/step - loss: 2.8320e-04 - accuracy: 1.0000 - val_loss: 1.7582 - val_accuracy: 0.7370\n",
            "Epoch 36/100\n",
            "20/20 [==============================] - 6s 285ms/step - loss: 2.5753e-04 - accuracy: 1.0000 - val_loss: 1.7772 - val_accuracy: 0.7370\n",
            "Epoch 37/100\n",
            "20/20 [==============================] - 6s 295ms/step - loss: 2.3280e-04 - accuracy: 1.0000 - val_loss: 1.7922 - val_accuracy: 0.7370\n",
            "Epoch 38/100\n",
            "20/20 [==============================] - 6s 274ms/step - loss: 2.1343e-04 - accuracy: 1.0000 - val_loss: 1.8063 - val_accuracy: 0.7380\n",
            "Epoch 39/100\n",
            "20/20 [==============================] - 6s 284ms/step - loss: 1.9536e-04 - accuracy: 1.0000 - val_loss: 1.8225 - val_accuracy: 0.7330\n",
            "Epoch 40/100\n",
            "20/20 [==============================] - 5s 244ms/step - loss: 1.8217e-04 - accuracy: 1.0000 - val_loss: 1.8387 - val_accuracy: 0.7350\n",
            "Epoch 41/100\n",
            "20/20 [==============================] - 7s 334ms/step - loss: 1.6719e-04 - accuracy: 1.0000 - val_loss: 1.8513 - val_accuracy: 0.7350\n",
            "Epoch 42/100\n",
            "20/20 [==============================] - 5s 233ms/step - loss: 1.5608e-04 - accuracy: 1.0000 - val_loss: 1.8641 - val_accuracy: 0.7340\n",
            "Epoch 43/100\n",
            "20/20 [==============================] - 5s 242ms/step - loss: 1.4685e-04 - accuracy: 1.0000 - val_loss: 1.8775 - val_accuracy: 0.7340\n",
            "Epoch 44/100\n",
            "20/20 [==============================] - 6s 296ms/step - loss: 1.3578e-04 - accuracy: 1.0000 - val_loss: 1.8883 - val_accuracy: 0.7330\n",
            "Epoch 45/100\n",
            "20/20 [==============================] - 5s 248ms/step - loss: 1.2698e-04 - accuracy: 1.0000 - val_loss: 1.9005 - val_accuracy: 0.7330\n",
            "Epoch 46/100\n",
            "20/20 [==============================] - 6s 278ms/step - loss: 1.2029e-04 - accuracy: 1.0000 - val_loss: 1.9112 - val_accuracy: 0.7330\n",
            "Epoch 47/100\n",
            "20/20 [==============================] - 5s 242ms/step - loss: 1.1262e-04 - accuracy: 1.0000 - val_loss: 1.9200 - val_accuracy: 0.7350\n",
            "Epoch 48/100\n",
            "20/20 [==============================] - 5s 236ms/step - loss: 1.0549e-04 - accuracy: 1.0000 - val_loss: 1.9321 - val_accuracy: 0.7330\n",
            "Epoch 49/100\n",
            "20/20 [==============================] - 6s 291ms/step - loss: 9.9130e-05 - accuracy: 1.0000 - val_loss: 1.9417 - val_accuracy: 0.7330\n",
            "Epoch 50/100\n",
            "20/20 [==============================] - 5s 244ms/step - loss: 9.3130e-05 - accuracy: 1.0000 - val_loss: 1.9522 - val_accuracy: 0.7300\n",
            "Epoch 51/100\n",
            "20/20 [==============================] - 6s 286ms/step - loss: 8.8173e-05 - accuracy: 1.0000 - val_loss: 1.9611 - val_accuracy: 0.7340\n",
            "Epoch 52/100\n",
            "20/20 [==============================] - 5s 241ms/step - loss: 8.3292e-05 - accuracy: 1.0000 - val_loss: 1.9702 - val_accuracy: 0.7330\n",
            "Epoch 53/100\n",
            "20/20 [==============================] - 5s 241ms/step - loss: 7.8980e-05 - accuracy: 1.0000 - val_loss: 1.9786 - val_accuracy: 0.7330\n",
            "Epoch 54/100\n",
            "20/20 [==============================] - 6s 286ms/step - loss: 7.4875e-05 - accuracy: 1.0000 - val_loss: 1.9876 - val_accuracy: 0.7330\n",
            "Epoch 55/100\n",
            "20/20 [==============================] - 5s 245ms/step - loss: 7.0889e-05 - accuracy: 1.0000 - val_loss: 1.9947 - val_accuracy: 0.7320\n",
            "Epoch 56/100\n",
            "20/20 [==============================] - 6s 285ms/step - loss: 6.7588e-05 - accuracy: 1.0000 - val_loss: 2.0032 - val_accuracy: 0.7320\n",
            "Epoch 57/100\n",
            "20/20 [==============================] - 5s 246ms/step - loss: 6.4158e-05 - accuracy: 1.0000 - val_loss: 2.0121 - val_accuracy: 0.7310\n",
            "Epoch 58/100\n",
            "20/20 [==============================] - 7s 350ms/step - loss: 6.1071e-05 - accuracy: 1.0000 - val_loss: 2.0203 - val_accuracy: 0.7340\n",
            "Epoch 59/100\n",
            "20/20 [==============================] - 5s 243ms/step - loss: 5.8254e-05 - accuracy: 1.0000 - val_loss: 2.0271 - val_accuracy: 0.7340\n",
            "Epoch 60/100\n",
            "20/20 [==============================] - 6s 287ms/step - loss: 5.5664e-05 - accuracy: 1.0000 - val_loss: 2.0349 - val_accuracy: 0.7350\n",
            "Epoch 61/100\n",
            "20/20 [==============================] - 5s 246ms/step - loss: 5.3093e-05 - accuracy: 1.0000 - val_loss: 2.0415 - val_accuracy: 0.7350\n",
            "Epoch 62/100\n",
            "20/20 [==============================] - 6s 297ms/step - loss: 5.0657e-05 - accuracy: 1.0000 - val_loss: 2.0495 - val_accuracy: 0.7340\n",
            "Epoch 63/100\n",
            "20/20 [==============================] - 5s 239ms/step - loss: 4.8535e-05 - accuracy: 1.0000 - val_loss: 2.0564 - val_accuracy: 0.7340\n",
            "Epoch 64/100\n",
            "20/20 [==============================] - 5s 233ms/step - loss: 4.6444e-05 - accuracy: 1.0000 - val_loss: 2.0625 - val_accuracy: 0.7350\n",
            "Epoch 65/100\n",
            "20/20 [==============================] - 6s 303ms/step - loss: 4.4539e-05 - accuracy: 1.0000 - val_loss: 2.0699 - val_accuracy: 0.7350\n",
            "Epoch 66/100\n",
            "20/20 [==============================] - 5s 266ms/step - loss: 4.2901e-05 - accuracy: 1.0000 - val_loss: 2.0754 - val_accuracy: 0.7350\n",
            "Epoch 67/100\n",
            "20/20 [==============================] - 5s 263ms/step - loss: 4.1124e-05 - accuracy: 1.0000 - val_loss: 2.0826 - val_accuracy: 0.7350\n",
            "Epoch 68/100\n",
            "20/20 [==============================] - 6s 288ms/step - loss: 3.9474e-05 - accuracy: 1.0000 - val_loss: 2.0893 - val_accuracy: 0.7340\n",
            "Epoch 69/100\n",
            "20/20 [==============================] - 6s 296ms/step - loss: 3.7979e-05 - accuracy: 1.0000 - val_loss: 2.0947 - val_accuracy: 0.7350\n",
            "Epoch 70/100\n",
            "20/20 [==============================] - 5s 237ms/step - loss: 3.6651e-05 - accuracy: 1.0000 - val_loss: 2.1009 - val_accuracy: 0.7350\n",
            "Epoch 71/100\n",
            "20/20 [==============================] - 5s 247ms/step - loss: 3.5197e-05 - accuracy: 1.0000 - val_loss: 2.1065 - val_accuracy: 0.7350\n",
            "Epoch 72/100\n",
            "20/20 [==============================] - 6s 295ms/step - loss: 3.4017e-05 - accuracy: 1.0000 - val_loss: 2.1127 - val_accuracy: 0.7350\n",
            "Epoch 73/100\n",
            "20/20 [==============================] - 5s 245ms/step - loss: 3.2721e-05 - accuracy: 1.0000 - val_loss: 2.1186 - val_accuracy: 0.7340\n",
            "Epoch 74/100\n",
            "20/20 [==============================] - 6s 291ms/step - loss: 3.1633e-05 - accuracy: 1.0000 - val_loss: 2.1237 - val_accuracy: 0.7340\n",
            "Epoch 75/100\n",
            "20/20 [==============================] - 5s 247ms/step - loss: 3.0548e-05 - accuracy: 1.0000 - val_loss: 2.1294 - val_accuracy: 0.7340\n",
            "Epoch 76/100\n",
            "20/20 [==============================] - 6s 296ms/step - loss: 2.9515e-05 - accuracy: 1.0000 - val_loss: 2.1357 - val_accuracy: 0.7330\n",
            "Epoch 77/100\n",
            "20/20 [==============================] - 6s 299ms/step - loss: 2.8442e-05 - accuracy: 1.0000 - val_loss: 2.1407 - val_accuracy: 0.7340\n",
            "Epoch 78/100\n",
            "20/20 [==============================] - 5s 242ms/step - loss: 2.7498e-05 - accuracy: 1.0000 - val_loss: 2.1456 - val_accuracy: 0.7330\n",
            "Epoch 79/100\n",
            "20/20 [==============================] - 5s 244ms/step - loss: 2.6589e-05 - accuracy: 1.0000 - val_loss: 2.1512 - val_accuracy: 0.7320\n",
            "Epoch 80/100\n",
            "20/20 [==============================] - 6s 291ms/step - loss: 2.5758e-05 - accuracy: 1.0000 - val_loss: 2.1560 - val_accuracy: 0.7320\n",
            "Epoch 81/100\n",
            "20/20 [==============================] - 5s 246ms/step - loss: 2.4922e-05 - accuracy: 1.0000 - val_loss: 2.1611 - val_accuracy: 0.7320\n",
            "Epoch 82/100\n",
            "20/20 [==============================] - 6s 313ms/step - loss: 2.4188e-05 - accuracy: 1.0000 - val_loss: 2.1662 - val_accuracy: 0.7320\n",
            "Epoch 83/100\n",
            "20/20 [==============================] - 5s 244ms/step - loss: 2.3424e-05 - accuracy: 1.0000 - val_loss: 2.1713 - val_accuracy: 0.7330\n",
            "Epoch 84/100\n",
            "20/20 [==============================] - 5s 238ms/step - loss: 2.2689e-05 - accuracy: 1.0000 - val_loss: 2.1765 - val_accuracy: 0.7310\n",
            "Epoch 85/100\n",
            "20/20 [==============================] - 6s 297ms/step - loss: 2.2074e-05 - accuracy: 1.0000 - val_loss: 2.1806 - val_accuracy: 0.7330\n",
            "Epoch 86/100\n",
            "20/20 [==============================] - 5s 242ms/step - loss: 2.1441e-05 - accuracy: 1.0000 - val_loss: 2.1863 - val_accuracy: 0.7330\n",
            "Epoch 87/100\n",
            "20/20 [==============================] - 6s 294ms/step - loss: 2.0797e-05 - accuracy: 1.0000 - val_loss: 2.1905 - val_accuracy: 0.7340\n",
            "Epoch 88/100\n",
            "20/20 [==============================] - 5s 240ms/step - loss: 2.0217e-05 - accuracy: 1.0000 - val_loss: 2.1943 - val_accuracy: 0.7340\n",
            "Epoch 89/100\n",
            "20/20 [==============================] - 5s 261ms/step - loss: 1.9632e-05 - accuracy: 1.0000 - val_loss: 2.1993 - val_accuracy: 0.7340\n",
            "Epoch 90/100\n",
            "20/20 [==============================] - 6s 286ms/step - loss: 1.9089e-05 - accuracy: 1.0000 - val_loss: 2.2046 - val_accuracy: 0.7330\n",
            "Epoch 91/100\n",
            "20/20 [==============================] - 5s 249ms/step - loss: 1.8546e-05 - accuracy: 1.0000 - val_loss: 2.2086 - val_accuracy: 0.7350\n",
            "Epoch 92/100\n",
            "20/20 [==============================] - 6s 284ms/step - loss: 1.8045e-05 - accuracy: 1.0000 - val_loss: 2.2133 - val_accuracy: 0.7350\n",
            "Epoch 93/100\n",
            "20/20 [==============================] - 5s 248ms/step - loss: 1.7546e-05 - accuracy: 1.0000 - val_loss: 2.2185 - val_accuracy: 0.7350\n",
            "Epoch 94/100\n",
            "20/20 [==============================] - 5s 259ms/step - loss: 1.7080e-05 - accuracy: 1.0000 - val_loss: 2.2227 - val_accuracy: 0.7330\n",
            "Epoch 95/100\n",
            "20/20 [==============================] - 5s 241ms/step - loss: 1.6630e-05 - accuracy: 1.0000 - val_loss: 2.2271 - val_accuracy: 0.7350\n",
            "Epoch 96/100\n",
            "20/20 [==============================] - 6s 297ms/step - loss: 1.6234e-05 - accuracy: 1.0000 - val_loss: 2.2310 - val_accuracy: 0.7350\n",
            "Epoch 97/100\n",
            "20/20 [==============================] - 5s 267ms/step - loss: 1.5780e-05 - accuracy: 1.0000 - val_loss: 2.2355 - val_accuracy: 0.7350\n",
            "Epoch 98/100\n",
            "20/20 [==============================] - 5s 261ms/step - loss: 1.5355e-05 - accuracy: 1.0000 - val_loss: 2.2397 - val_accuracy: 0.7350\n",
            "Epoch 99/100\n",
            "20/20 [==============================] - 5s 245ms/step - loss: 1.5007e-05 - accuracy: 1.0000 - val_loss: 2.2433 - val_accuracy: 0.7330\n",
            "Epoch 100/100\n",
            "20/20 [==============================] - 6s 295ms/step - loss: 1.4602e-05 - accuracy: 1.0000 - val_loss: 2.2479 - val_accuracy: 0.7340\n"
          ]
        }
      ]
    },
    {
      "cell_type": "code",
      "source": [],
      "metadata": {
        "id": "HDFeiD0fFW5d"
      },
      "execution_count": 51,
      "outputs": []
    },
    {
      "cell_type": "markdown",
      "source": [
        "**VISUALIZING THE RESULTS**"
      ],
      "metadata": {
        "id": "ZholxYN5M_5X"
      }
    },
    {
      "cell_type": "code",
      "source": [
        "acc = history.history['acc']\n",
        "val_acc = history.history['val_acc']\n",
        "\n",
        "loss = history.history['loss']\n",
        "val_loss = history.history['val_loss']\n",
        "\n",
        "epochs_range = range[EPOCHS]\n",
        "\n",
        "plt.figure(figsize=(8, 8)\n",
        "plt.subplot(1, 2, 1)\n",
        "plt.plot(epochs_range, acc, label='Training Accuracy')\n",
        "plt.plot(epochs_range, val_acc, label='Validation Accuracy')\n",
        "plt.legend(loc='lower right')\n",
        "plt.title('Training and Validation Accuracy')\n",
        "\n",
        "plt.subplot(1, 2, 2)\n",
        "plt.plot(epochs_range, loss, label='Traning Loss')\n",
        "plt.legend(loc='upper right')\n",
        "plt.title('Training and Validation')\n",
        "plt.save('./foo.png')\n",
        "plt.show()\n"
      ],
      "metadata": {
        "colab": {
          "base_uri": "https://localhost:8080/",
          "height": 106
        },
        "id": "tB9cwoHDFW2O",
        "outputId": "c69311d0-a559-4e18-92f9-1af508da9e76"
      },
      "execution_count": 52,
      "outputs": [
        {
          "output_type": "error",
          "ename": "SyntaxError",
          "evalue": "'(' was never closed (<ipython-input-52-04fffd3d4de4>, line 9)",
          "traceback": [
            "\u001b[0;36m  File \u001b[0;32m\"<ipython-input-52-04fffd3d4de4>\"\u001b[0;36m, line \u001b[0;32m9\u001b[0m\n\u001b[0;31m    plt.figure(figsize=(8, 8)\u001b[0m\n\u001b[0m              ^\u001b[0m\n\u001b[0;31mSyntaxError\u001b[0m\u001b[0;31m:\u001b[0m '(' was never closed\n"
          ]
        }
      ]
    }
  ]
}